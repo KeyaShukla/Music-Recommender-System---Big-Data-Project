{
 "cells": [
  {
   "cell_type": "code",
   "execution_count": 1,
   "id": "32cc4440",
   "metadata": {},
   "outputs": [
    {
     "name": "stderr",
     "output_type": "stream",
     "text": [
      "/ext3/miniconda3/lib/python3.9/site-packages/dask_jobqueue/core.py:20: FutureWarning: tmpfile is deprecated and will be removed in a future release. Please use dask.utils.tmpfile instead.\n",
      "  from distributed.utils import tmpfile\n"
     ]
    }
   ],
   "source": [
    "import numpy as np\n",
    "import pandas as pd\n",
    "import time\n",
    "from scipy.sparse import coo_matrix\n",
    "from scipy.sparse import csr_matrix\n",
    "import lightfm\n",
    "from lightfm.data import Dataset\n",
    "from lightfm import LightFM\n",
    "from lightfm.evaluation import precision_at_k\n",
    "import matplotlib.pyplot as plt\n",
    "from distributed import Client\n",
    "from dask_jobqueue import SLURMCluster\n",
    "from IPython.display import display\n",
    "import matplotlib.pyplot as plt\n",
    "import os\n",
    "from glob import glob\n",
    "import dask\n",
    "import dask.bag as db\n",
    "import dask.dataframe as dd"
   ]
  },
  {
   "cell_type": "code",
   "execution_count": 2,
   "id": "7c9c30dd",
   "metadata": {},
   "outputs": [
    {
     "data": {
      "application/vnd.jupyter.widget-view+json": {
       "model_id": "706b4f45650e4a5a886f136ec2d7dbd2",
       "version_major": 2,
       "version_minor": 0
      },
      "text/plain": [
       "Tab(children=(HTML(value='<div class=\"jp-RenderedHTMLCommon jp-RenderedHTML jp-mod-trusted jp-OutputArea-outpu…"
      ]
     },
     "metadata": {},
     "output_type": "display_data"
    },
    {
     "data": {
      "text/html": [
       "<div>\n",
       "    <div style=\"width: 24px; height: 24px; background-color: #e1e1e1; border: 3px solid #9D9D9D; border-radius: 5px; position: absolute;\"> </div>\n",
       "    <div style=\"margin-left: 48px;\">\n",
       "        <h3 style=\"margin-bottom: 0px;\">Client</h3>\n",
       "        <p style=\"color: #9D9D9D; margin-bottom: 0px;\">Client-d5048b59-f43f-11ed-8aed-3cfdfe6144b4</p>\n",
       "        <table style=\"width: 100%; text-align: left;\">\n",
       "\n",
       "        <tr>\n",
       "        \n",
       "            <td style=\"text-align: left;\"><strong>Connection method:</strong> Cluster object</td>\n",
       "            <td style=\"text-align: left;\"><strong>Cluster type:</strong> dask_jobqueue.SLURMCluster</td>\n",
       "        \n",
       "        </tr>\n",
       "\n",
       "        \n",
       "            <tr>\n",
       "                <td style=\"text-align: left;\">\n",
       "                    <strong>Dashboard: </strong> <a href=\"http://10.32.35.21:8787/status\" target=\"_blank\">http://10.32.35.21:8787/status</a>\n",
       "                </td>\n",
       "                <td style=\"text-align: left;\"></td>\n",
       "            </tr>\n",
       "        \n",
       "\n",
       "        </table>\n",
       "\n",
       "        \n",
       "            <details>\n",
       "            <summary style=\"margin-bottom: 20px;\"><h3 style=\"display: inline;\">Cluster Info</h3></summary>\n",
       "            <div class=\"jp-RenderedHTMLCommon jp-RenderedHTML jp-mod-trusted jp-OutputArea-output\">\n",
       "    <div style=\"width: 24px; height: 24px; background-color: #e1e1e1; border: 3px solid #9D9D9D; border-radius: 5px; position: absolute;\">\n",
       "    </div>\n",
       "    <div style=\"margin-left: 48px;\">\n",
       "        <h3 style=\"margin-bottom: 0px; margin-top: 0px;\">SLURMCluster</h3>\n",
       "        <p style=\"color: #9D9D9D; margin-bottom: 0px;\">c6df46f5</p>\n",
       "        <table style=\"width: 100%; text-align: left;\">\n",
       "            <tr>\n",
       "                <td style=\"text-align: left;\">\n",
       "                    <strong>Dashboard:</strong> <a href=\"http://10.32.35.21:8787/status\" target=\"_blank\">http://10.32.35.21:8787/status</a>\n",
       "                </td>\n",
       "                <td style=\"text-align: left;\">\n",
       "                    <strong>Workers:</strong> 0\n",
       "                </td>\n",
       "            </tr>\n",
       "            <tr>\n",
       "                <td style=\"text-align: left;\">\n",
       "                    <strong>Total threads:</strong> 0\n",
       "                </td>\n",
       "                <td style=\"text-align: left;\">\n",
       "                    <strong>Total memory:</strong> 0 B\n",
       "                </td>\n",
       "            </tr>\n",
       "            \n",
       "        </table>\n",
       "\n",
       "        <details>\n",
       "            <summary style=\"margin-bottom: 20px;\">\n",
       "                <h3 style=\"display: inline;\">Scheduler Info</h3>\n",
       "            </summary>\n",
       "\n",
       "            <div style=\"\">\n",
       "    <div>\n",
       "        <div style=\"width: 24px; height: 24px; background-color: #FFF7E5; border: 3px solid #FF6132; border-radius: 5px; position: absolute;\"> </div>\n",
       "        <div style=\"margin-left: 48px;\">\n",
       "            <h3 style=\"margin-bottom: 0px;\">Scheduler</h3>\n",
       "            <p style=\"color: #9D9D9D; margin-bottom: 0px;\">Scheduler-b7517df5-f00e-4fbe-8f1e-542720ec40cb</p>\n",
       "            <table style=\"width: 100%; text-align: left;\">\n",
       "                <tr>\n",
       "                    <td style=\"text-align: left;\">\n",
       "                        <strong>Comm:</strong> tcp://10.32.35.21:36031\n",
       "                    </td>\n",
       "                    <td style=\"text-align: left;\">\n",
       "                        <strong>Workers:</strong> 0\n",
       "                    </td>\n",
       "                </tr>\n",
       "                <tr>\n",
       "                    <td style=\"text-align: left;\">\n",
       "                        <strong>Dashboard:</strong> <a href=\"http://10.32.35.21:8787/status\" target=\"_blank\">http://10.32.35.21:8787/status</a>\n",
       "                    </td>\n",
       "                    <td style=\"text-align: left;\">\n",
       "                        <strong>Total threads:</strong> 0\n",
       "                    </td>\n",
       "                </tr>\n",
       "                <tr>\n",
       "                    <td style=\"text-align: left;\">\n",
       "                        <strong>Started:</strong> Just now\n",
       "                    </td>\n",
       "                    <td style=\"text-align: left;\">\n",
       "                        <strong>Total memory:</strong> 0 B\n",
       "                    </td>\n",
       "                </tr>\n",
       "            </table>\n",
       "        </div>\n",
       "    </div>\n",
       "\n",
       "    <details style=\"margin-left: 48px;\">\n",
       "        <summary style=\"margin-bottom: 20px;\">\n",
       "            <h3 style=\"display: inline;\">Workers</h3>\n",
       "        </summary>\n",
       "\n",
       "        \n",
       "\n",
       "    </details>\n",
       "</div>\n",
       "\n",
       "        </details>\n",
       "    </div>\n",
       "</div>\n",
       "            </details>\n",
       "        \n",
       "\n",
       "    </div>\n",
       "</div>"
      ],
      "text/plain": [
       "<Client: 'tcp://10.32.35.21:36031' processes=0 threads=0, memory=0 B>"
      ]
     },
     "metadata": {},
     "output_type": "display_data"
    }
   ],
   "source": [
    "# Set LOCAL to True for single-machine execution while developing\n",
    "# Set LOCAL to False for cluster execution\n",
    "LOCAL = False\n",
    "\n",
    "if LOCAL:\n",
    "    # This line creates a single-machine dask client\n",
    "    client = Client()\n",
    "else:    \n",
    "    # This line creates a SLURM cluster dask and dask client\n",
    "    # Logging outputs will be stored in /scratch/{your-netid}\n",
    "    \n",
    "    cluster = SLURMCluster(\n",
    "                           # Memory and core limits should be sufficient here\n",
    "                           memory='32GB', cores=4,\n",
    "\n",
    "                           # Ensure that Dask uses the correct version of Python on the cluster\n",
    "                           python='/scratch/work/public/dask/{}/bin/python'.format(dask.__version__),                           \n",
    "                           \n",
    "                           # Place the output logs in an accessible location\n",
    "                           job_extra=['--export NONE --output=/scratch/{}/slurm-%j.out'.format(os.environ['SLURM_JOB_USER'])]\n",
    "    )\n",
    "\n",
    "    cluster.submit_command = 'slurm'\n",
    "    cluster.scale(50)\n",
    "\n",
    "    display(cluster)\n",
    "    client = Client(cluster)\n",
    "\n",
    "display(client)"
   ]
  },
  {
   "cell_type": "code",
   "execution_count": 3,
   "id": "ce5327e1",
   "metadata": {},
   "outputs": [],
   "source": [
    "# These parquets were generated after preprocessing the datasets, splitting into 80-20\n",
    "# The rating column 'song_listens' and numeric column 'recording_msid_idx' were also calculated in these parquets\n",
    "train_df = pd.read_parquet(\"index_training_small.parquet\")\n",
    "validation_df = pd.read_parquet(\"index_validation_small.parquet\")\n",
    "test_df = pd.read_parquet(\"index_test_small.parquet\")"
   ]
  },
  {
   "cell_type": "code",
   "execution_count": 4,
   "id": "7757722d",
   "metadata": {},
   "outputs": [],
   "source": [
    "concatenated_data = pd.concat([train_df, test_df, validation_df]).drop_duplicates()\n",
    "concatenated_data = concatenated_data.sort_values(['recording_msid_idx'])\n",
    "concatenated_data['song_id'] = (concatenated_data.groupby(['recording_msid_idx'], sort=False).ngroup()+1)"
   ]
  },
  {
   "cell_type": "code",
   "execution_count": 5,
   "id": "fd5b582a",
   "metadata": {},
   "outputs": [],
   "source": [
    "train_df = train_df.merge(concatenated_data, on=['recording_msid_idx','user_id','song_listens'], how=\"left\")\n",
    "validation_df = validation_df.merge(concatenated_data, on=['recording_msid_idx','user_id','song_listens'], how=\"left\")\n",
    "test_df = test_df.merge(concatenated_data, on=['recording_msid_idx','user_id','song_listens'], how=\"left\")"
   ]
  },
  {
   "cell_type": "code",
   "execution_count": 6,
   "id": "686eb8b5",
   "metadata": {},
   "outputs": [],
   "source": [
    "train_df = train_df.drop(columns=['recording_msid_x', 'recording_msid_y'])\n",
    "validation_df = validation_df.drop(columns=['recording_msid_x', 'recording_msid_y'])\n",
    "test_df = test_df.drop(columns=['recording_msid_x', 'recording_msid_y'])"
   ]
  },
  {
   "cell_type": "code",
   "execution_count": 7,
   "id": "6b6193c6",
   "metadata": {},
   "outputs": [],
   "source": [
    "data = Dataset()\n",
    "data.fit(users = np.unique(concatenated_data[\"user_id\"]), items = np.unique(concatenated_data[\"song_id\"]))"
   ]
  },
  {
   "cell_type": "code",
   "execution_count": 8,
   "id": "248f4139",
   "metadata": {},
   "outputs": [],
   "source": [
    "interactions_train, weights_train = data.build_interactions([(train_df['user_id'][i], \n",
    "                                                              train_df['song_id'][i],\n",
    "                                                              train_df['song_listens'][i]) for i in range(train_df.shape[0])])"
   ]
  },
  {
   "cell_type": "code",
   "execution_count": 9,
   "id": "c6316fa7",
   "metadata": {},
   "outputs": [],
   "source": [
    "interactions_val, weights_val = data.build_interactions([(validation_df['user_id'][i],\n",
    "                                                          validation_df['song_id'][i], \n",
    "                                                          validation_df['song_listens'][i]) for i in range(validation_df.shape[0])])"
   ]
  },
  {
   "cell_type": "code",
   "execution_count": 10,
   "id": "3f854958",
   "metadata": {},
   "outputs": [],
   "source": [
    "interactions_test, weights_test = data.build_interactions([(test_df['user_id'][i],\n",
    "                                                          test_df['song_id'][i], \n",
    "                                                          test_df['song_listens'][i]) for i in range(test_df.shape[0])])"
   ]
  },
  {
   "cell_type": "code",
   "execution_count": null,
   "id": "8b6e363e",
   "metadata": {},
   "outputs": [],
   "source": [
    "# WARP model with alpha = 0.1\n",
    "start_warp_1 = time.time()\n",
    "lfm = LightFM(loss='warp', no_components = 10, user_alpha = 0.1)\n",
    "model = model.fit(interactions = interactions_train, sample_weight= weights_train, \n",
    "                  epochs = 1, verbose = True)\n",
    "validation_precision_warp_1 = precision_at_k(lfm, interactions_val, k = 100)\n",
    "mean_validation_precision_warp_1 = validation_precision_warp_1.mean()\n",
    "end_warp_1 = time.time()"
   ]
  },
  {
   "cell_type": "code",
   "execution_count": null,
   "id": "bfbc90c6",
   "metadata": {},
   "outputs": [],
   "source": [
    "print(\"Precision for validation set is:\", mean_validation_precision_warp_1)\n",
    "print(\"Time spent is:\", end_warp_1 - start_warp_1)"
   ]
  },
  {
   "cell_type": "code",
   "execution_count": null,
   "id": "45eb91fc",
   "metadata": {},
   "outputs": [],
   "source": [
    "# BPR model with alpha = 0.1\n",
    "start_bpr_1 = time.time()\n",
    "lfm = LightFM(loss='bpr', no_components = 10, user_alpha = 0.1)\n",
    "lfm = lfm.fit(interactions = interactions_train, sample_weight= weights_train, \n",
    "                  epochs = 1, verbose = True)\n",
    "validation_precision_bpr_1 = precision_at_k(lfm, interactions_val, k = 100)\n",
    "mean_validation_precision_bpr_1 = validation_precision_bpr_1.mean()\n",
    "end_bpr_1 = time.time()"
   ]
  },
  {
   "cell_type": "code",
   "execution_count": null,
   "id": "e03f439d",
   "metadata": {},
   "outputs": [],
   "source": [
    "print(\"Precision for validation set is:\", mean_validation_precision_bpr_1)\n",
    "print(\"Time spent is:\", end_bpr_1 - start_bpr_1)"
   ]
  },
  {
   "cell_type": "code",
   "execution_count": null,
   "id": "a0cecf03",
   "metadata": {},
   "outputs": [],
   "source": [
    "# WARP model with alpha = 1\n",
    "alpha2 = 1\n",
    "start_warp_2 = time.time()\n",
    "lfm = LightFM(loss='warp', no_components = 10, user_alpha = alpha2)\n",
    "lfm = lfm.fit(interactions = interactions_train, sample_weight= weights_train, \n",
    "                  epochs = 1, verbose = True)\n",
    "validation_precision_warp_2 = precision_at_k(lfm, interactions_val, k = 100)\n",
    "mean_validation_precision_warp_2 = validation_precision_warp_2.mean()\n",
    "end_warp_2 = time.time()"
   ]
  },
  {
   "cell_type": "code",
   "execution_count": null,
   "id": "75b7861d",
   "metadata": {},
   "outputs": [],
   "source": [
    "print(\"Precision for validation is:\", mean_validation_precision_warp_2)\n",
    "print(\"Time spent is:\", end_warp_2 - start_warp_2)"
   ]
  },
  {
   "cell_type": "code",
   "execution_count": null,
   "id": "3724f407",
   "metadata": {},
   "outputs": [
    {
     "name": "stderr",
     "output_type": "stream",
     "text": [
      "Epoch: 100%|██████████| 1/1 [00:45<00:00, 45.37s/it]\n"
     ]
    }
   ],
   "source": [
    "# WARP model with alpha = 0.001\n",
    "alpha3 = 0.001\n",
    "start_warp_3 = time.time()\n",
    "lfm = LightFM(loss='warp', no_components = 10, user_alpha = alpha3)\n",
    "lfm = lfm.fit(interactions = interactions_train, sample_weight= weights_train, \n",
    "                  epochs = 1, verbose = True)\n",
    "validation_precision_warp_3 = precision_at_k(lfm, interactions_val, k = 100)\n",
    "mean_validation_precision_warp_3 = validation_precision_warp_3.mean()\n",
    "end_warp_3 = time.time()"
   ]
  },
  {
   "cell_type": "code",
   "execution_count": null,
   "id": "379d0eb3",
   "metadata": {},
   "outputs": [],
   "source": [
    "print(\"Precision for validation set is:\", mean_validation_precision_warp_3)\n",
    "print(\"Time spent is:\", end_warp_3 - start_warp_3)"
   ]
  },
  {
   "cell_type": "code",
   "execution_count": null,
   "id": "ffe18950",
   "metadata": {},
   "outputs": [],
   "source": [
    "# Optimal WARP model with alpha = 0.001 to compute test accuracy\n",
    "test_precision_warp = precision_at_k(lfm, interactions_test, k = 100)\n",
    "mean_test_precision_warp = test_precision_warp.mean()"
   ]
  },
  {
   "cell_type": "code",
   "execution_count": null,
   "id": "4b7875d5",
   "metadata": {},
   "outputs": [],
   "source": [
    "print(\"Precision for test set is:\", mean_test_precision_warp)"
   ]
  },
  {
   "cell_type": "code",
   "execution_count": null,
   "id": "b5b9f726",
   "metadata": {},
   "outputs": [],
   "source": []
  }
 ],
 "metadata": {
  "kernelspec": {
   "display_name": "Python 3 (ipykernel)",
   "language": "python",
   "name": "python3"
  },
  "language_info": {
   "codemirror_mode": {
    "name": "ipython",
    "version": 3
   },
   "file_extension": ".py",
   "mimetype": "text/x-python",
   "name": "python",
   "nbconvert_exporter": "python",
   "pygments_lexer": "ipython3",
   "version": "3.9.10"
  }
 },
 "nbformat": 4,
 "nbformat_minor": 5
}
